{
 "cells": [
  {
   "cell_type": "markdown",
   "metadata": {},
   "source": [
    "###    Задача - решить систему линейных уравнений, используя три метода: прямой, итерационный и вариационный.\n",
    "В качестве прямого метода выбран метод Гаусса, в качестве итерационного - метод Якоби, \n",
    "в качестве вариационного - метод невязок."
   ]
  },
  {
   "cell_type": "code",
   "execution_count": 1,
   "metadata": {
    "collapsed": true
   },
   "outputs": [],
   "source": [
    "import numpy as np"
   ]
  },
  {
   "cell_type": "markdown",
   "metadata": {},
   "source": [
    "#### Поле со входными полями. \n",
    "A_start*x = b_start - система, котурую нужно решить. \n",
    "<br> number_of_iterations - ограничение сверху на количество итерациий при решении итерационным и вариационным методами"
   ]
  },
  {
   "cell_type": "code",
   "execution_count": 2,
   "metadata": {
    "collapsed": true
   },
   "outputs": [],
   "source": [
    "number_of_iterations = 150\n",
    "\n",
    "A_start = np.array([[11.0, 2.0, 3.0],\n",
    "                    [4.0, 15.0, 6.0],\n",
    "                    [7.0, 8.0, 21.0]])\n",
    "b_start = np.array([10.0, 11.0, 12.0])"
   ]
  },
  {
   "cell_type": "markdown",
   "metadata": {},
   "source": [
    "## Метод Гаусса\n",
    "\n",
    "Складываем строки таким образом, чтобы получить верхнюю треугольную матрицу. На каждом шаге к i+1 строке добавляется i-ая, <br>домноженная на -A[i+1][i]/A[i][i]. Далее решаем треугольную матрицу следующим образом: на каждом шаге находит $x_i = \\frac{b_i}{A_{ii}}$, вычитает из b i-ый столбец матрицы А, домноженный на $x_i$"
   ]
  },
  {
   "cell_type": "markdown",
   "metadata": {},
   "source": [
    "#### вспомогательные функции: \n",
    "add_line - добавляет строку с номером i_add, домноженную на k к строке i_target системы\n",
    "<br> exchange_lines - меняет i и j строки матрицы местами\n",
    "<br> find_nonzero_j - находит строку, в которой j элемент не равен 0\n",
    "<br> solve_trianjular_system - решает систему с верхнетреугольной матрицей"
   ]
  },
  {
   "cell_type": "code",
   "execution_count": 3,
   "metadata": {
    "collapsed": true
   },
   "outputs": [],
   "source": [
    "def add_line(i_target, i_add, k=1):\n",
    "    # add [i_add] line of system, multiplied by k, to [i_target] line\n",
    "    A[i_target] += k*A[i_add]\n",
    "    b[i_target] += k*b[i_add]\n",
    "\n",
    "\n",
    "def exchange_lines(i, j):\n",
    "    if i != j:\n",
    "        c = np.copy(A[i])\n",
    "        A[i] = A[j]\n",
    "        A[j] = c\n",
    "\n",
    "\n",
    "def find_nonzero_j(i, j):\n",
    "    # returns number of line after i (i line included) with nonzero j element\n",
    "    for k in range(A.shape[0])[i:]:\n",
    "        if A[k][j] != 0:\n",
    "            return k\n",
    "        else:\n",
    "            print \"zero column detected\"\n",
    "\n",
    "\n",
    "def solve_triangular_system(A, b):\n",
    "    # solve system with top-triangular matrix\n",
    "    solution = list()\n",
    "    for i in range(A.shape[0]-1, -1, -1):\n",
    "        solution.append(b[i]/A[i][i])\n",
    "        for k in range(i):\n",
    "            b[k] -= A[k][i]*solution[-1]\n",
    "    solution.reverse()\n",
    "    return solution"
   ]
  },
  {
   "cell_type": "markdown",
   "metadata": {},
   "source": [
    "#### реализация метода Гаусса:\n",
    "переменная direct_solution будет содержать точное решение системы "
   ]
  },
  {
   "cell_type": "code",
   "execution_count": 4,
   "metadata": {
    "collapsed": false
   },
   "outputs": [
    {
     "name": "stdout",
     "output_type": "stream",
     "text": [
      "direct method (Gauss):[0.78815489749430523, 0.47152619589977213, 0.12908124525436601]\n"
     ]
    }
   ],
   "source": [
    "A = np.copy(A_start)\n",
    "b = np.copy(b_start)\n",
    "\n",
    "for i in range(A.shape[0]-1):\n",
    "    exchange_lines(i, find_nonzero_j(i, i))\n",
    "    map(lambda j: add_line(j, i, -1*A[j][i]/A[i][i]), range(A.shape[0])[i+1:])\n",
    "\n",
    "direct_solution = solve_triangular_system(A, b)\n",
    "print \"direct method (Gauss):\" + str(direct_solution)"
   ]
  },
  {
   "cell_type": "markdown",
   "metadata": {},
   "source": [
    "## Метод Якоби\n",
    "Проверяем матрицу системы на условие диагонального преобладания (достаточное условие сходимости метода Якоби): модуль каждого элемента на диагонали должен быть больше суммы всех остальных элементов в строке. Если уловие не выполнено, решать не пытаемся.\n",
    "<br><br>Далее аскладываем исходную матрицу А в сумму матриц A = L + D + U, где L и U - нижняя и верхняя треугольные матрицы с нулями на диагонали, D - диагональная матрица. Применяя рекурентную формулу $x_{n+1} = -D^{-1}(L+U)x_n + D^{-1}b$, проводим number_of_itterations иттераций.\n",
    "<br>начальное приближение - нулевой вектор"
   ]
  },
  {
   "cell_type": "markdown",
   "metadata": {},
   "source": [
    "#### вспомогательные функции: \n",
    "check_covergence - проверяет условие диагонального преобладания\n",
    "<br> reverse_matrix - считает для диагональной матрицы обратную"
   ]
  },
  {
   "cell_type": "code",
   "execution_count": 5,
   "metadata": {
    "collapsed": true
   },
   "outputs": [],
   "source": [
    "def check_covergence(matrix):\n",
    "    for i in range(matrix.shape[0]):\n",
    "        summ = 0\n",
    "        for j in range(matrix.shape[0]):\n",
    "            if j!=i:\n",
    "                summ += matrix[i][j]\n",
    "        if np.abs(matrix[i][i] <= summ):\n",
    "            print \"condition for covergence is not sutisfied\"\n",
    "            return False\n",
    "    return True\n",
    "\n",
    "\n",
    "def reverse_matrix(matrix):\n",
    "    # calculates revers matrix to diagonal matrix\n",
    "    reversed_matrix = np.copy(matrix)\n",
    "    for i in range(matrix.shape[0]):\n",
    "        reversed_matrix[i][i] = 1/reversed_matrix[i][i]\n",
    "    return reversed_matrix"
   ]
  },
  {
   "cell_type": "markdown",
   "metadata": {},
   "source": [
    "#### реализация метода Якоби:\n",
    "Проверяем достаточное условие сходимости, если выполнено, разбиваем матрицу на указанную сумму и делаем number_of_itterations шагов\n",
    "<br>Выводим решение, число проделанных шагов и точность (норма разности полученного решения с точным)"
   ]
  },
  {
   "cell_type": "code",
   "execution_count": 6,
   "metadata": {
    "collapsed": false
   },
   "outputs": [
    {
     "name": "stdout",
     "output_type": "stream",
     "text": [
      "iterative method (Jacobi): [ 0.7881549   0.4715262   0.12908125], number of iterations: 150, accuracy = 1.27192026216e-16\n"
     ]
    }
   ],
   "source": [
    "A = np.copy(A_start)\n",
    "b = np.copy(b_start)\n",
    "x = np.zeros(A.shape[0])\n",
    "\n",
    "if check_covergence(A) :\n",
    "    L, D, U = np.zeros(A.shape), np.zeros(A.shape), np.zeros(A.shape)\n",
    "    for i in range(A.shape[0]):\n",
    "        for j in range(A.shape[0]):\n",
    "            if i == j:\n",
    "                D[i][j] = A[i][j]\n",
    "            elif i > j:\n",
    "                L[i][j] = A[i][j]\n",
    "            elif i<j:\n",
    "                U[i][j] = A[i][j]\n",
    "                \n",
    "    R = -1*np.dot(reverse_matrix(D), L+U)\n",
    "    F = np.dot(reverse_matrix(D), b)\n",
    "    x = np.zeros(A.shape[0])\n",
    "\n",
    "    for i in range(number_of_iterations):\n",
    "        x = np.dot(R, x) + F\n",
    "\n",
    "    print \"iterative method (Jacobi): \" + str(x) + \", number of iterations: \" + str(number_of_iterations) + \", accuracy = \" + str(np.linalg.norm(direct_solution - x))\n"
   ]
  },
  {
   "cell_type": "markdown",
   "metadata": {},
   "source": [
    "## Метод невязок\n",
    "\n",
    "начальное приближение - нулевой вектор\n",
    "<br>рекурентная формула для определения следующих приближений:\n",
    "<br>$x_{n+1} = x_n + \\frac{(Ar, r)}{(Ar, Ar)}r$,  <br>где $r = b - Ax_n$ - невязка\n",
    "<br><br> Выводит решение, количество проделанных итераций (в какой-то момент невязка может становиться нулевой в пределах машинной точности, на этом моменте выходим из цикла) и точность (норма разности решения с точным) "
   ]
  },
  {
   "cell_type": "code",
   "execution_count": 7,
   "metadata": {
    "collapsed": false
   },
   "outputs": [
    {
     "name": "stdout",
     "output_type": "stream",
     "text": [
      "variation method (residual): [ 0.7881549   0.4715262   0.12908125], number of iterations: 31, accuracy = 6.20633538312e-17\n"
     ]
    }
   ],
   "source": [
    "A = np.copy(A_start)\n",
    "b = np.copy(b_start)\n",
    "x = np.zeros(A.shape[0])\n",
    "\n",
    "for i in range(number_of_iterations):\n",
    "    r = b - np.dot(A, x)\n",
    "    if (np.linalg.norm(r) == 0):\n",
    "        number_of_iterations = i\n",
    "        break\n",
    "    x = x + np.dot(np.dot(A, r), r)/np.linalg.norm(np.dot(A, r))**2*r\n",
    "\n",
    "print \"variation method (residual): \" + str(x) + \", number of iterations: \" + str(\n",
    "    number_of_iterations) + \", accuracy = \" + str(np.linalg.norm(direct_solution - x))"
   ]
  },
  {
   "cell_type": "code",
   "execution_count": null,
   "metadata": {
    "collapsed": true
   },
   "outputs": [],
   "source": []
  }
 ],
 "metadata": {
  "anaconda-cloud": {},
  "kernelspec": {
   "display_name": "Python [default]",
   "language": "python",
   "name": "python2"
  },
  "language_info": {
   "codemirror_mode": {
    "name": "ipython",
    "version": 2
   },
   "file_extension": ".py",
   "mimetype": "text/x-python",
   "name": "python",
   "nbconvert_exporter": "python",
   "pygments_lexer": "ipython2",
   "version": "2.7.12"
  }
 },
 "nbformat": 4,
 "nbformat_minor": 1
}
